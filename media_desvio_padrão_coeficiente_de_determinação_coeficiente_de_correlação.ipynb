{
  "nbformat": 4,
  "nbformat_minor": 0,
  "metadata": {
    "colab": {
      "name": "media / desvio padrão / coeficiente de determinação / coeficiente de correlação",
      "provenance": [],
      "authorship_tag": "ABX9TyNXH9LRo/N3BG3jZdHgfOLC",
      "include_colab_link": true
    },
    "kernelspec": {
      "name": "python3",
      "display_name": "Python 3"
    },
    "language_info": {
      "name": "python"
    }
  },
  "cells": [
    {
      "cell_type": "markdown",
      "metadata": {
        "id": "view-in-github",
        "colab_type": "text"
      },
      "source": [
        "<a href=\"https://colab.research.google.com/github/VictordeLara/basic-statistics/blob/main/media_desvio_padr%C3%A3o_coeficiente_de_determina%C3%A7%C3%A3o_coeficiente_de_correla%C3%A7%C3%A3o.ipynb\" target=\"_parent\"><img src=\"https://colab.research.google.com/assets/colab-badge.svg\" alt=\"Open In Colab\"/></a>"
      ]
    },
    {
      "cell_type": "code",
      "metadata": {
        "id": "12y8vmYNm6j4"
      },
      "source": [
        "import numpy as np\n",
        "mediax = 0\n",
        "somatario = 0\n",
        "p = 0\n",
        "x = np.zeros((n))\n",
        "y = np.zeros((n))\n",
        "mediay = 0\n",
        "n = int(input('amosta :'))\n",
        "for i in range(n):\n",
        "  x[i] = float(input(' numero para x :'))\n",
        "  y[i] = float(input(' numero para y :'))\n",
        "  mediax = mediax + x[i]/n\n",
        "  mediay = mediay + y[i]/n\n",
        "  somatorio = (x[i]-mediax)*(y[i]-mediay)\n",
        "for k in range(n):\n",
        "  desvio1=(((mediax**2)-(x[k]**2))*(1/2))/n\n",
        "  coef_deter1 = ((x[k])-(mediax))**2\n",
        "  desvio2=(((mediay**2)-(y[k]**2))*(1/2))/n\n",
        "  coef_deter2 = ((y[k])-(mediay))**2\n",
        "\n",
        "p = (somatario)/((coef_deter1)**1/2)*((coef_deter2)**1/2)\n",
        "\n",
        "print('media x :',mediax)\n",
        "print('desvio x :',desvio1)\n",
        "print('coeficiente de determinação x :',coef_deter1)\n",
        "print('media y :',mediay)\n",
        "print('desvio y :',desvio2)\n",
        "print('coeficiente de determinação y :',coef_deter2)\n",
        "print('coeficiente de correlação :',p)\n",
        "\n"
      ],
      "execution_count": null,
      "outputs": []
    }
  ]
}