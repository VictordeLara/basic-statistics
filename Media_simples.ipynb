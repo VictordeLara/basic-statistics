{
  "nbformat": 4,
  "nbformat_minor": 0,
  "metadata": {
    "colab": {
      "name": "Media_simples",
      "provenance": [],
      "authorship_tag": "ABX9TyOC8oLBl13RSXbPkaBHUWbs",
      "include_colab_link": true
    },
    "kernelspec": {
      "name": "python3",
      "display_name": "Python 3"
    },
    "language_info": {
      "name": "python"
    }
  },
  "cells": [
    {
      "cell_type": "markdown",
      "metadata": {
        "id": "view-in-github",
        "colab_type": "text"
      },
      "source": [
        "<a href=\"https://colab.research.google.com/github/VictordeLara/basic-statistics/blob/main/Media_simples.ipynb\" target=\"_parent\"><img src=\"https://colab.research.google.com/assets/colab-badge.svg\" alt=\"Open In Colab\"/></a>"
      ]
    },
    {
      "cell_type": "code",
      "metadata": {
        "colab": {
          "base_uri": "https://localhost:8080/"
        },
        "id": "8n7fExPuHq54",
        "outputId": "0237a04c-41c1-49d0-fe7c-82c0f626bbe4"
      },
      "source": [
        "\n",
        "n = int(input('Digite o tamanho da amostra :'))\n",
        "media = 0\n",
        "for i in range(n):\n",
        "  x=float(input('Digite o valor :'))\n",
        "  media = media + x/n\n",
        "\n",
        "print('a media é de :',media)\n",
        "\n",
        "\n"
      ],
      "execution_count": null,
      "outputs": [
        {
          "output_type": "stream",
          "name": "stdout",
          "text": [
            "Digite o tamanho da amostra :10\n",
            "Digite o valor :8.5\n",
            "Digite o valor :6.5\n",
            "Digite o valor :7.0\n",
            "Digite o valor :6.0\n",
            "Digite o valor :7.0\n",
            "Digite o valor :5.5\n",
            "Digite o valor :4.5\n",
            "Digite o valor :5.0\n",
            "Digite o valor :4.0\n",
            "Digite o valor :3.0\n",
            "a media é de : 5.7\n"
          ]
        }
      ]
    }
  ]
}